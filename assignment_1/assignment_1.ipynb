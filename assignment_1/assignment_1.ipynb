{
 "cells": [
  {
   "cell_type": "code",
   "id": "initial_id",
   "metadata": {
    "collapsed": true,
    "jupyter": {
     "is_executing": true
    }
   },
   "source": [
    "# Assignment 1 - Apopei Cezar-Daniel\n",
    "from input_output_functions import read_from_file\n",
    "\n",
    "# load system\n",
    "matrix, vector = read_from_file(\"input.txt\")"
   ],
   "outputs": [],
   "execution_count": null
  },
  {
   "metadata": {
    "ExecuteTime": {
     "end_time": "2024-10-13T13:34:43.959951Z",
     "start_time": "2024-10-13T13:34:43.954391Z"
    }
   },
   "cell_type": "code",
   "source": [
    "from linear_algebra_functions import *\n",
    "\n",
    "print(matrix)\n",
    "print(vector)\n",
    "print(f\"{transpose(matrix)=}\")\n",
    "print(f\"{determinant(matrix)=}\")"
   ],
   "id": "d794b5d40ca6847b",
   "outputs": [
    {
     "name": "stdout",
     "output_type": "stream",
     "text": [
      "[-0.42857142857142855, -0.5, 0.7857142857142857]\n",
      "[0.7142857142857142, 0.5, -0.6428571428571428]\n",
      "[0.2857142857142857, 0.5, -0.3571428571428571]\n",
      "\n",
      "[5, 6, 7]\n",
      "[0.35714285714285765, 2.071428571428571, 1.9285714285714293]\n",
      "[[2, 3, -1], [1, -1, 4], [3, 1, 2]]\n",
      "[5, 6, 7]\n",
      "transpose(matrix)=[(2, 1, 3), (3, -1, 1), (-1, 4, 2)]\n",
      "determinant(matrix)=14\n"
     ]
    }
   ],
   "execution_count": 2
  },
  {
   "metadata": {
    "ExecuteTime": {
     "end_time": "2024-10-13T13:34:43.963952Z",
     "start_time": "2024-10-13T13:34:43.959951Z"
    }
   },
   "cell_type": "code",
   "source": [
    "from linear_algebra_functions import *\n",
    "print(\"Cramer:\")\n",
    "x, y, z = solve_cramer(matrix, vector)\n",
    "print(f\"{x=}, {y=}, {z=}\")"
   ],
   "id": "60fe83b8fb34fcde",
   "outputs": [
    {
     "name": "stdout",
     "output_type": "stream",
     "text": [
      "Cramer:\n",
      "x=0.35714285714285715, y=2.0714285714285716, z=1.9285714285714286\n"
     ]
    }
   ],
   "execution_count": 3
  },
  {
   "metadata": {
    "ExecuteTime": {
     "end_time": "2024-10-13T13:34:43.968839Z",
     "start_time": "2024-10-13T13:34:43.964958Z"
    }
   },
   "cell_type": "code",
   "source": [
    "from linear_algebra_functions import minor\n",
    "print(f\"{minor(matrix, 1, 1)=}\")\n",
    "print(f\"{cofactor(matrix)=}\")\n",
    "print(f\"{adjoint(matrix)=}\")\n",
    "print(f\"{inverse(matrix)=}\")\n",
    "print(\"Inversion:\")\n",
    "x, y, z = solve_inversion(matrix, vector)\n",
    "print(f\"{x=}, {y=}, {z=}\")"
   ],
   "id": "a46fe8558fb03edb",
   "outputs": [
    {
     "name": "stdout",
     "output_type": "stream",
     "text": [
      "minor(matrix, 1, 1)=[[2, -1], [3, 2]]\n",
      "cofactor(matrix)=[[-6, 10, 4], [-7, 7, 7], [11, -9, -5]]\n",
      "adjoint(matrix)=[(-6, -7, 11), (10, 7, -9), (4, 7, -5)]\n",
      "inverse(matrix)=[[-0.42857142857142855, -0.5, 0.7857142857142857], [0.7142857142857142, 0.5, -0.6428571428571428], [0.2857142857142857, 0.5, -0.3571428571428571]]\n",
      "Inversion:\n",
      "x=0.35714285714285765, y=2.071428571428571, z=1.9285714285714293\n"
     ]
    }
   ],
   "execution_count": 4
  }
 ],
 "metadata": {
  "kernelspec": {
   "display_name": "Python 3",
   "language": "python",
   "name": "python3"
  },
  "language_info": {
   "codemirror_mode": {
    "name": "ipython",
    "version": 2
   },
   "file_extension": ".py",
   "mimetype": "text/x-python",
   "name": "python",
   "nbconvert_exporter": "python",
   "pygments_lexer": "ipython2",
   "version": "2.7.6"
  }
 },
 "nbformat": 4,
 "nbformat_minor": 5
}
